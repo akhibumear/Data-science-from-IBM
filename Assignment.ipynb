{
 "cells": [
  {
   "cell_type": "markdown",
   "id": "cec13249-45ed-474e-af79-383b0eaf214d",
   "metadata": {},
   "source": [
    "<h1><strong>My Jupyter Notebook on IBM Watson Studio</strong> </h1>"
   ]
  },
  {
   "cell_type": "markdown",
   "id": "1ab131d5-6f5f-4a49-9360-2fef43be86db",
   "metadata": {},
   "source": [
    "<strong> Akhib Umear Shaik </strong><br>\n",
    "To be a Scientest "
   ]
  },
  {
   "cell_type": "markdown",
   "id": "ba1dd37e-497c-4ba3-a977-e76fd723de7e",
   "metadata": {},
   "source": [
    "<em>I am interested in data science because I Love to challenge myself</em>"
   ]
  },
  {
   "cell_type": "markdown",
   "id": "f9685263-d29b-4d1e-9319-80c2e645ecae",
   "metadata": {},
   "source": [
    "<h3> This is a simple code for adding two number </h3>"
   ]
  },
  {
   "cell_type": "code",
   "execution_count": 2,
   "id": "54960076-d44b-4990-897a-347073af79be",
   "metadata": {},
   "outputs": [
    {
     "name": "stdout",
     "output_type": "stream",
     "text": [
      "110\n"
     ]
    }
   ],
   "source": [
    "print(45+65)"
   ]
  },
  {
   "cell_type": "markdown",
   "id": "2280c90a-9aaa-4d4f-beab-b5247e1eef74",
   "metadata": {},
   "source": [
    "<ul>\n",
    "<li>one </li>\n",
    "<li>2</li>\n",
    "<li>III</li>\n",
    "<li>4</li>\n",
    "<li>five</li>\n",
    "<li>VI</li>\n",
    "</ul>"
   ]
  },
  {
   "cell_type": "code",
   "execution_count": null,
   "id": "a97bf02f-500d-44f9-9f56-554ee6ac64f4",
   "metadata": {},
   "outputs": [],
   "source": []
  }
 ],
 "metadata": {
  "kernelspec": {
   "display_name": "Python",
   "language": "python",
   "name": "conda-env-python-py"
  },
  "language_info": {
   "codemirror_mode": {
    "name": "ipython",
    "version": 3
   },
   "file_extension": ".py",
   "mimetype": "text/x-python",
   "name": "python",
   "nbconvert_exporter": "python",
   "pygments_lexer": "ipython3",
   "version": "3.7.12"
  }
 },
 "nbformat": 4,
 "nbformat_minor": 5
}
